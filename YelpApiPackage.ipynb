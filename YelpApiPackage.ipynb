{
 "cells": [
  {
   "cell_type": "code",
   "execution_count": 2,
   "id": "0ebb1e73",
   "metadata": {},
   "outputs": [
    {
     "data": {
      "text/plain": [
       "dict_keys(['client-id', 'api-key'])"
      ]
     },
     "execution_count": 2,
     "metadata": {},
     "output_type": "execute_result"
    }
   ],
   "source": [
    "import json\n",
    "with open('/Users/siblose/.secret/yelp_api.json') as f:\n",
    "    login = json.load(f)\n",
    "login.keys()"
   ]
  },
  {
   "cell_type": "code",
   "execution_count": 3,
   "id": "214a2ecf",
   "metadata": {},
   "outputs": [
    {
     "data": {
      "text/plain": [
       "<yelpapi.yelpapi.YelpAPI at 0x294467731f0>"
      ]
     },
     "execution_count": 3,
     "metadata": {},
     "output_type": "execute_result"
    }
   ],
   "source": [
    "# import the YelpAPI Class\n",
    "from yelpapi import YelpAPI\n",
    "# Create an instance with your key\n",
    "yelp_api = YelpAPI(login['api-key'], timeout_s=5.0)\n",
    "yelp_api"
   ]
  },
  {
   "cell_type": "code",
   "execution_count": null,
   "id": "96500d35",
   "metadata": {},
   "outputs": [],
   "source": [
    "#To use the \"businesses search\" endpoint,  we will use the yelp_api.search_query method."
   ]
  },
  {
   "cell_type": "code",
   "execution_count": 4,
   "id": "7967e876",
   "metadata": {},
   "outputs": [
    {
     "name": "stdout",
     "output_type": "stream",
     "text": [
      "Help on method search_query in module yelpapi.yelpapi:\n",
      "\n",
      "search_query(**kwargs) method of yelpapi.yelpapi.YelpAPI instance\n",
      "    Query the Yelp Search API.\n",
      "    \n",
      "    documentation: https://www.yelp.com/developers/documentation/v3/business_search\n",
      "    \n",
      "    required parameters:\n",
      "        * one of either:\n",
      "            * location - text specifying a location to search for\n",
      "            * latitude and longitude\n",
      "\n"
     ]
    }
   ],
   "source": [
    "help(yelp_api.search_query)"
   ]
  },
  {
   "cell_type": "code",
   "execution_count": null,
   "id": "8966703f",
   "metadata": {},
   "outputs": [],
   "source": [
    "#The only arguments/parameters that the docstring mentions are location or latitude & longitude, because the others are optional\n",
    "#but it will accept ANY of the parameters that are accepted by the business_search endpoint."
   ]
  },
  {
   "cell_type": "code",
   "execution_count": 5,
   "id": "531a3743",
   "metadata": {},
   "outputs": [
    {
     "name": "stdout",
     "output_type": "stream",
     "text": [
      "<class 'dict'>\n"
     ]
    },
    {
     "data": {
      "text/plain": [
       "dict_keys(['businesses', 'total', 'region'])"
      ]
     },
     "execution_count": 5,
     "metadata": {},
     "output_type": "execute_result"
    }
   ],
   "source": [
    "# use our yelp_api variable's search_query method to perform our API call\n",
    "search_results = yelp_api.search_query(location='NY, NY',\n",
    "                                       term='Pizza')\n",
    "print(type(search_results))\n",
    "search_results.keys()"
   ]
  },
  {
   "cell_type": "code",
   "execution_count": 6,
   "id": "a0e9cd8e",
   "metadata": {},
   "outputs": [
    {
     "data": {
      "text/plain": [
       "12300"
      ]
     },
     "execution_count": 6,
     "metadata": {},
     "output_type": "execute_result"
    }
   ],
   "source": [
    "search_results['total']"
   ]
  },
  {
   "cell_type": "code",
   "execution_count": 8,
   "id": "d89a98ec",
   "metadata": {},
   "outputs": [],
   "source": [
    "import pandas as pd"
   ]
  },
  {
   "cell_type": "code",
   "execution_count": 9,
   "id": "d57cbd99",
   "metadata": {},
   "outputs": [
    {
     "data": {
      "text/html": [
       "<div>\n",
       "<style scoped>\n",
       "    .dataframe tbody tr th:only-of-type {\n",
       "        vertical-align: middle;\n",
       "    }\n",
       "\n",
       "    .dataframe tbody tr th {\n",
       "        vertical-align: top;\n",
       "    }\n",
       "\n",
       "    .dataframe thead th {\n",
       "        text-align: right;\n",
       "    }\n",
       "</style>\n",
       "<table border=\"1\" class=\"dataframe\">\n",
       "  <thead>\n",
       "    <tr style=\"text-align: right;\">\n",
       "      <th></th>\n",
       "      <th>id</th>\n",
       "      <th>alias</th>\n",
       "      <th>name</th>\n",
       "      <th>image_url</th>\n",
       "      <th>is_closed</th>\n",
       "      <th>url</th>\n",
       "      <th>review_count</th>\n",
       "      <th>categories</th>\n",
       "      <th>rating</th>\n",
       "      <th>coordinates</th>\n",
       "      <th>transactions</th>\n",
       "      <th>price</th>\n",
       "      <th>location</th>\n",
       "      <th>phone</th>\n",
       "      <th>display_phone</th>\n",
       "      <th>distance</th>\n",
       "    </tr>\n",
       "  </thead>\n",
       "  <tbody>\n",
       "    <tr>\n",
       "      <th>0</th>\n",
       "      <td>zj8Lq1T8KIC5zwFief15jg</td>\n",
       "      <td>prince-street-pizza-new-york-2</td>\n",
       "      <td>Prince Street Pizza</td>\n",
       "      <td>https://s3-media4.fl.yelpcdn.com/bphoto/PfI8oV...</td>\n",
       "      <td>False</td>\n",
       "      <td>https://www.yelp.com/biz/prince-street-pizza-n...</td>\n",
       "      <td>5084</td>\n",
       "      <td>[{'alias': 'pizza', 'title': 'Pizza'}, {'alias...</td>\n",
       "      <td>4.5</td>\n",
       "      <td>{'latitude': 40.72308755605564, 'longitude': -...</td>\n",
       "      <td>[delivery, pickup]</td>\n",
       "      <td>$</td>\n",
       "      <td>{'address1': '27 Prince St', 'address2': None,...</td>\n",
       "      <td>+12129664100</td>\n",
       "      <td>(212) 966-4100</td>\n",
       "      <td>1961.877142</td>\n",
       "    </tr>\n",
       "    <tr>\n",
       "      <th>1</th>\n",
       "      <td>ysqgdbSrezXgVwER2kQWKA</td>\n",
       "      <td>julianas-brooklyn-3</td>\n",
       "      <td>Juliana's</td>\n",
       "      <td>https://s3-media2.fl.yelpcdn.com/bphoto/od36nF...</td>\n",
       "      <td>False</td>\n",
       "      <td>https://www.yelp.com/biz/julianas-brooklyn-3?a...</td>\n",
       "      <td>2703</td>\n",
       "      <td>[{'alias': 'pizza', 'title': 'Pizza'}]</td>\n",
       "      <td>4.5</td>\n",
       "      <td>{'latitude': 40.70274718768062, 'longitude': -...</td>\n",
       "      <td>[delivery]</td>\n",
       "      <td>$$</td>\n",
       "      <td>{'address1': '19 Old Fulton St', 'address2': '...</td>\n",
       "      <td>+17185966700</td>\n",
       "      <td>(718) 596-6700</td>\n",
       "      <td>308.569844</td>\n",
       "    </tr>\n",
       "  </tbody>\n",
       "</table>\n",
       "</div>"
      ],
      "text/plain": [
       "                       id                           alias  \\\n",
       "0  zj8Lq1T8KIC5zwFief15jg  prince-street-pizza-new-york-2   \n",
       "1  ysqgdbSrezXgVwER2kQWKA             julianas-brooklyn-3   \n",
       "\n",
       "                  name                                          image_url  \\\n",
       "0  Prince Street Pizza  https://s3-media4.fl.yelpcdn.com/bphoto/PfI8oV...   \n",
       "1            Juliana's  https://s3-media2.fl.yelpcdn.com/bphoto/od36nF...   \n",
       "\n",
       "   is_closed                                                url  review_count  \\\n",
       "0      False  https://www.yelp.com/biz/prince-street-pizza-n...          5084   \n",
       "1      False  https://www.yelp.com/biz/julianas-brooklyn-3?a...          2703   \n",
       "\n",
       "                                          categories  rating  \\\n",
       "0  [{'alias': 'pizza', 'title': 'Pizza'}, {'alias...     4.5   \n",
       "1             [{'alias': 'pizza', 'title': 'Pizza'}]     4.5   \n",
       "\n",
       "                                         coordinates        transactions  \\\n",
       "0  {'latitude': 40.72308755605564, 'longitude': -...  [delivery, pickup]   \n",
       "1  {'latitude': 40.70274718768062, 'longitude': -...          [delivery]   \n",
       "\n",
       "  price                                           location         phone  \\\n",
       "0     $  {'address1': '27 Prince St', 'address2': None,...  +12129664100   \n",
       "1    $$  {'address1': '19 Old Fulton St', 'address2': '...  +17185966700   \n",
       "\n",
       "    display_phone     distance  \n",
       "0  (212) 966-4100  1961.877142  \n",
       "1  (718) 596-6700   308.569844  "
      ]
     },
     "execution_count": 9,
     "metadata": {},
     "output_type": "execute_result"
    }
   ],
   "source": [
    "biz = pd.DataFrame(search_results['businesses'])\n",
    "biz.head(2) "
   ]
  },
  {
   "cell_type": "code",
   "execution_count": null,
   "id": "dd94180a",
   "metadata": {},
   "outputs": [],
   "source": [
    "#Pagination and \"offset\"\n",
    "#Total Results vs. Businesses\n",
    "\n",
    "#If we check the total number of results, we can see that we had 12,000 businesses that met our search criteria"
   ]
  },
  {
   "cell_type": "code",
   "execution_count": 10,
   "id": "a7360733",
   "metadata": {},
   "outputs": [
    {
     "data": {
      "text/plain": [
       "12300"
      ]
     },
     "execution_count": 10,
     "metadata": {},
     "output_type": "execute_result"
    }
   ],
   "source": [
    "## total number of matching businesses\n",
    "search_results['total']"
   ]
  },
  {
   "cell_type": "code",
   "execution_count": 11,
   "id": "7239ace0",
   "metadata": {},
   "outputs": [
    {
     "data": {
      "text/plain": [
       "20"
      ]
     },
     "execution_count": 11,
     "metadata": {},
     "output_type": "execute_result"
    }
   ],
   "source": [
    "#However, if we check our list of businesses, we will see that we only received data for 20 businesses.\n",
    "## how many businesses in our results\n",
    "len(search_results['businesses'])"
   ]
  },
  {
   "cell_type": "code",
   "execution_count": null,
   "id": "5b87d2c5",
   "metadata": {},
   "outputs": [],
   "source": [
    "#The Yelp API will only return a \"page\" of 20 results at a time.\n",
    "#If we want to get the next page of results, \n",
    "#we will perform another API call, but we will add an additional argument called \"offset.\""
   ]
  },
  {
   "cell_type": "code",
   "execution_count": 12,
   "id": "25473435",
   "metadata": {},
   "outputs": [],
   "source": [
    "# add offset to our original api call\n",
    "search_results = yelp_api.search_query(location='NY, NY',\n",
    "                                       term='Pizza',\n",
    "                                       offset = 20)"
   ]
  },
  {
   "cell_type": "code",
   "execution_count": 13,
   "id": "a9ff6c59",
   "metadata": {},
   "outputs": [
    {
     "data": {
      "text/html": [
       "<div>\n",
       "<style scoped>\n",
       "    .dataframe tbody tr th:only-of-type {\n",
       "        vertical-align: middle;\n",
       "    }\n",
       "\n",
       "    .dataframe tbody tr th {\n",
       "        vertical-align: top;\n",
       "    }\n",
       "\n",
       "    .dataframe thead th {\n",
       "        text-align: right;\n",
       "    }\n",
       "</style>\n",
       "<table border=\"1\" class=\"dataframe\">\n",
       "  <thead>\n",
       "    <tr style=\"text-align: right;\">\n",
       "      <th></th>\n",
       "      <th>id</th>\n",
       "      <th>alias</th>\n",
       "      <th>name</th>\n",
       "      <th>image_url</th>\n",
       "      <th>is_closed</th>\n",
       "      <th>url</th>\n",
       "      <th>review_count</th>\n",
       "      <th>categories</th>\n",
       "      <th>rating</th>\n",
       "      <th>coordinates</th>\n",
       "      <th>transactions</th>\n",
       "      <th>price</th>\n",
       "      <th>location</th>\n",
       "      <th>phone</th>\n",
       "      <th>display_phone</th>\n",
       "      <th>distance</th>\n",
       "    </tr>\n",
       "  </thead>\n",
       "  <tbody>\n",
       "    <tr>\n",
       "      <th>0</th>\n",
       "      <td>vpkTNjq9dRh9rT3Nh0pe-A</td>\n",
       "      <td>nolita-pizza-new-york-2</td>\n",
       "      <td>Nolita Pizza</td>\n",
       "      <td>https://s3-media2.fl.yelpcdn.com/bphoto/_BKVVo...</td>\n",
       "      <td>False</td>\n",
       "      <td>https://www.yelp.com/biz/nolita-pizza-new-york...</td>\n",
       "      <td>226</td>\n",
       "      <td>[{'alias': 'pizza', 'title': 'Pizza'}, {'alias...</td>\n",
       "      <td>4.5</td>\n",
       "      <td>{'latitude': 40.7208883, 'longitude': -73.9962...</td>\n",
       "      <td>[pickup, delivery]</td>\n",
       "      <td>$</td>\n",
       "      <td>{'address1': '68 Kenmare St', 'address2': None...</td>\n",
       "      <td>+16468959131</td>\n",
       "      <td>(646) 895-9131</td>\n",
       "      <td>1725.054309</td>\n",
       "    </tr>\n",
       "    <tr>\n",
       "      <th>1</th>\n",
       "      <td>Q9F2ocrmYuGt1yn3M7MOBw</td>\n",
       "      <td>lucali-brooklyn-3</td>\n",
       "      <td>Lucali</td>\n",
       "      <td>https://s3-media1.fl.yelpcdn.com/bphoto/rMlNCZ...</td>\n",
       "      <td>False</td>\n",
       "      <td>https://www.yelp.com/biz/lucali-brooklyn-3?adj...</td>\n",
       "      <td>2012</td>\n",
       "      <td>[{'alias': 'pizza', 'title': 'Pizza'}]</td>\n",
       "      <td>4.0</td>\n",
       "      <td>{'latitude': 40.681840746711224, 'longitude': ...</td>\n",
       "      <td>[delivery]</td>\n",
       "      <td>$$</td>\n",
       "      <td>{'address1': '575 Henry St', 'address2': None,...</td>\n",
       "      <td>+17188584086</td>\n",
       "      <td>(718) 858-4086</td>\n",
       "      <td>2673.589406</td>\n",
       "    </tr>\n",
       "  </tbody>\n",
       "</table>\n",
       "</div>"
      ],
      "text/plain": [
       "                       id                    alias          name  \\\n",
       "0  vpkTNjq9dRh9rT3Nh0pe-A  nolita-pizza-new-york-2  Nolita Pizza   \n",
       "1  Q9F2ocrmYuGt1yn3M7MOBw        lucali-brooklyn-3        Lucali   \n",
       "\n",
       "                                           image_url  is_closed  \\\n",
       "0  https://s3-media2.fl.yelpcdn.com/bphoto/_BKVVo...      False   \n",
       "1  https://s3-media1.fl.yelpcdn.com/bphoto/rMlNCZ...      False   \n",
       "\n",
       "                                                 url  review_count  \\\n",
       "0  https://www.yelp.com/biz/nolita-pizza-new-york...           226   \n",
       "1  https://www.yelp.com/biz/lucali-brooklyn-3?adj...          2012   \n",
       "\n",
       "                                          categories  rating  \\\n",
       "0  [{'alias': 'pizza', 'title': 'Pizza'}, {'alias...     4.5   \n",
       "1             [{'alias': 'pizza', 'title': 'Pizza'}]     4.0   \n",
       "\n",
       "                                         coordinates        transactions  \\\n",
       "0  {'latitude': 40.7208883, 'longitude': -73.9962...  [pickup, delivery]   \n",
       "1  {'latitude': 40.681840746711224, 'longitude': ...          [delivery]   \n",
       "\n",
       "  price                                           location         phone  \\\n",
       "0     $  {'address1': '68 Kenmare St', 'address2': None...  +16468959131   \n",
       "1    $$  {'address1': '575 Henry St', 'address2': None,...  +17188584086   \n",
       "\n",
       "    display_phone     distance  \n",
       "0  (646) 895-9131  1725.054309  \n",
       "1  (718) 858-4086  2673.589406  "
      ]
     },
     "execution_count": 13,
     "metadata": {},
     "output_type": "execute_result"
    }
   ],
   "source": [
    "biz20 = pd.DataFrame(search_results['businesses'])\n",
    "biz20.head(2)"
   ]
  },
  {
   "cell_type": "code",
   "execution_count": null,
   "id": "2a2d32ef",
   "metadata": {},
   "outputs": [],
   "source": [
    "#Above should have different results than your original call when you make the offset call.\n",
    "#Now you can combine the results (so far) into one dataframe using pd.concat()\n"
   ]
  },
  {
   "cell_type": "code",
   "execution_count": 14,
   "id": "1eea082e",
   "metadata": {},
   "outputs": [
    {
     "data": {
      "text/html": [
       "<div>\n",
       "<style scoped>\n",
       "    .dataframe tbody tr th:only-of-type {\n",
       "        vertical-align: middle;\n",
       "    }\n",
       "\n",
       "    .dataframe tbody tr th {\n",
       "        vertical-align: top;\n",
       "    }\n",
       "\n",
       "    .dataframe thead th {\n",
       "        text-align: right;\n",
       "    }\n",
       "</style>\n",
       "<table border=\"1\" class=\"dataframe\">\n",
       "  <thead>\n",
       "    <tr style=\"text-align: right;\">\n",
       "      <th></th>\n",
       "      <th>id</th>\n",
       "      <th>alias</th>\n",
       "      <th>name</th>\n",
       "      <th>image_url</th>\n",
       "      <th>is_closed</th>\n",
       "      <th>url</th>\n",
       "      <th>review_count</th>\n",
       "      <th>categories</th>\n",
       "      <th>rating</th>\n",
       "      <th>coordinates</th>\n",
       "      <th>transactions</th>\n",
       "      <th>price</th>\n",
       "      <th>location</th>\n",
       "      <th>phone</th>\n",
       "      <th>display_phone</th>\n",
       "      <th>distance</th>\n",
       "    </tr>\n",
       "  </thead>\n",
       "  <tbody>\n",
       "    <tr>\n",
       "      <th>0</th>\n",
       "      <td>zj8Lq1T8KIC5zwFief15jg</td>\n",
       "      <td>prince-street-pizza-new-york-2</td>\n",
       "      <td>Prince Street Pizza</td>\n",
       "      <td>https://s3-media4.fl.yelpcdn.com/bphoto/PfI8oV...</td>\n",
       "      <td>False</td>\n",
       "      <td>https://www.yelp.com/biz/prince-street-pizza-n...</td>\n",
       "      <td>5084</td>\n",
       "      <td>[{'alias': 'pizza', 'title': 'Pizza'}, {'alias...</td>\n",
       "      <td>4.5</td>\n",
       "      <td>{'latitude': 40.72308755605564, 'longitude': -...</td>\n",
       "      <td>[delivery, pickup]</td>\n",
       "      <td>$</td>\n",
       "      <td>{'address1': '27 Prince St', 'address2': None,...</td>\n",
       "      <td>+12129664100</td>\n",
       "      <td>(212) 966-4100</td>\n",
       "      <td>1961.877142</td>\n",
       "    </tr>\n",
       "    <tr>\n",
       "      <th>1</th>\n",
       "      <td>ysqgdbSrezXgVwER2kQWKA</td>\n",
       "      <td>julianas-brooklyn-3</td>\n",
       "      <td>Juliana's</td>\n",
       "      <td>https://s3-media2.fl.yelpcdn.com/bphoto/od36nF...</td>\n",
       "      <td>False</td>\n",
       "      <td>https://www.yelp.com/biz/julianas-brooklyn-3?a...</td>\n",
       "      <td>2703</td>\n",
       "      <td>[{'alias': 'pizza', 'title': 'Pizza'}]</td>\n",
       "      <td>4.5</td>\n",
       "      <td>{'latitude': 40.70274718768062, 'longitude': -...</td>\n",
       "      <td>[delivery]</td>\n",
       "      <td>$$</td>\n",
       "      <td>{'address1': '19 Old Fulton St', 'address2': '...</td>\n",
       "      <td>+17185966700</td>\n",
       "      <td>(718) 596-6700</td>\n",
       "      <td>308.569844</td>\n",
       "    </tr>\n",
       "    <tr>\n",
       "      <th>2</th>\n",
       "      <td>WG639VkTjmK5dzydd1BBJA</td>\n",
       "      <td>rubirosa-new-york-2</td>\n",
       "      <td>Rubirosa</td>\n",
       "      <td>https://s3-media3.fl.yelpcdn.com/bphoto/l0Phrn...</td>\n",
       "      <td>False</td>\n",
       "      <td>https://www.yelp.com/biz/rubirosa-new-york-2?a...</td>\n",
       "      <td>3193</td>\n",
       "      <td>[{'alias': 'italian', 'title': 'Italian'}, {'a...</td>\n",
       "      <td>4.5</td>\n",
       "      <td>{'latitude': 40.722766, 'longitude': -73.996233}</td>\n",
       "      <td>[pickup]</td>\n",
       "      <td>$$</td>\n",
       "      <td>{'address1': '235 Mulberry St', 'address2': ''...</td>\n",
       "      <td>+12129650500</td>\n",
       "      <td>(212) 965-0500</td>\n",
       "      <td>1932.946770</td>\n",
       "    </tr>\n",
       "  </tbody>\n",
       "</table>\n",
       "</div>"
      ],
      "text/plain": [
       "                       id                           alias  \\\n",
       "0  zj8Lq1T8KIC5zwFief15jg  prince-street-pizza-new-york-2   \n",
       "1  ysqgdbSrezXgVwER2kQWKA             julianas-brooklyn-3   \n",
       "2  WG639VkTjmK5dzydd1BBJA             rubirosa-new-york-2   \n",
       "\n",
       "                  name                                          image_url  \\\n",
       "0  Prince Street Pizza  https://s3-media4.fl.yelpcdn.com/bphoto/PfI8oV...   \n",
       "1            Juliana's  https://s3-media2.fl.yelpcdn.com/bphoto/od36nF...   \n",
       "2             Rubirosa  https://s3-media3.fl.yelpcdn.com/bphoto/l0Phrn...   \n",
       "\n",
       "   is_closed                                                url  review_count  \\\n",
       "0      False  https://www.yelp.com/biz/prince-street-pizza-n...          5084   \n",
       "1      False  https://www.yelp.com/biz/julianas-brooklyn-3?a...          2703   \n",
       "2      False  https://www.yelp.com/biz/rubirosa-new-york-2?a...          3193   \n",
       "\n",
       "                                          categories  rating  \\\n",
       "0  [{'alias': 'pizza', 'title': 'Pizza'}, {'alias...     4.5   \n",
       "1             [{'alias': 'pizza', 'title': 'Pizza'}]     4.5   \n",
       "2  [{'alias': 'italian', 'title': 'Italian'}, {'a...     4.5   \n",
       "\n",
       "                                         coordinates        transactions  \\\n",
       "0  {'latitude': 40.72308755605564, 'longitude': -...  [delivery, pickup]   \n",
       "1  {'latitude': 40.70274718768062, 'longitude': -...          [delivery]   \n",
       "2   {'latitude': 40.722766, 'longitude': -73.996233}            [pickup]   \n",
       "\n",
       "  price                                           location         phone  \\\n",
       "0     $  {'address1': '27 Prince St', 'address2': None,...  +12129664100   \n",
       "1    $$  {'address1': '19 Old Fulton St', 'address2': '...  +17185966700   \n",
       "2    $$  {'address1': '235 Mulberry St', 'address2': ''...  +12129650500   \n",
       "\n",
       "    display_phone     distance  \n",
       "0  (212) 966-4100  1961.877142  \n",
       "1  (718) 596-6700   308.569844  \n",
       "2  (212) 965-0500  1932.946770  "
      ]
     },
     "metadata": {},
     "output_type": "display_data"
    },
    {
     "data": {
      "text/html": [
       "<div>\n",
       "<style scoped>\n",
       "    .dataframe tbody tr th:only-of-type {\n",
       "        vertical-align: middle;\n",
       "    }\n",
       "\n",
       "    .dataframe tbody tr th {\n",
       "        vertical-align: top;\n",
       "    }\n",
       "\n",
       "    .dataframe thead th {\n",
       "        text-align: right;\n",
       "    }\n",
       "</style>\n",
       "<table border=\"1\" class=\"dataframe\">\n",
       "  <thead>\n",
       "    <tr style=\"text-align: right;\">\n",
       "      <th></th>\n",
       "      <th>id</th>\n",
       "      <th>alias</th>\n",
       "      <th>name</th>\n",
       "      <th>image_url</th>\n",
       "      <th>is_closed</th>\n",
       "      <th>url</th>\n",
       "      <th>review_count</th>\n",
       "      <th>categories</th>\n",
       "      <th>rating</th>\n",
       "      <th>coordinates</th>\n",
       "      <th>transactions</th>\n",
       "      <th>price</th>\n",
       "      <th>location</th>\n",
       "      <th>phone</th>\n",
       "      <th>display_phone</th>\n",
       "      <th>distance</th>\n",
       "    </tr>\n",
       "  </thead>\n",
       "  <tbody>\n",
       "    <tr>\n",
       "      <th>37</th>\n",
       "      <td>l6yVO8l8E5XI9ArgOy5rgw</td>\n",
       "      <td>ltd-pizza-and-bar-new-york</td>\n",
       "      <td>LTD Pizza and Bar</td>\n",
       "      <td>https://s3-media2.fl.yelpcdn.com/bphoto/Lt0xvq...</td>\n",
       "      <td>False</td>\n",
       "      <td>https://www.yelp.com/biz/ltd-pizza-and-bar-new...</td>\n",
       "      <td>32</td>\n",
       "      <td>[{'alias': 'pizza', 'title': 'Pizza'}, {'alias...</td>\n",
       "      <td>4.5</td>\n",
       "      <td>{'latitude': 40.724242, 'longitude': -74.00802}</td>\n",
       "      <td>[restaurant_reservation, pickup, delivery]</td>\n",
       "      <td>NaN</td>\n",
       "      <td>{'address1': '225 Hudson St', 'address2': None...</td>\n",
       "      <td>+12124191618</td>\n",
       "      <td>(212) 419-1618</td>\n",
       "      <td>2391.701096</td>\n",
       "    </tr>\n",
       "    <tr>\n",
       "      <th>38</th>\n",
       "      <td>yH6t1JWcwkdWG4CS5KPvow</td>\n",
       "      <td>adriennes-pizzabar-new-york</td>\n",
       "      <td>Adrienne's Pizzabar</td>\n",
       "      <td>https://s3-media3.fl.yelpcdn.com/bphoto/YePG9J...</td>\n",
       "      <td>False</td>\n",
       "      <td>https://www.yelp.com/biz/adriennes-pizzabar-ne...</td>\n",
       "      <td>1850</td>\n",
       "      <td>[{'alias': 'pizza', 'title': 'Pizza'}, {'alias...</td>\n",
       "      <td>4.0</td>\n",
       "      <td>{'latitude': 40.70424819999999, 'longitude': -...</td>\n",
       "      <td>[pickup, delivery]</td>\n",
       "      <td>$$</td>\n",
       "      <td>{'address1': '54 Stone St', 'address2': None, ...</td>\n",
       "      <td>+12122483838</td>\n",
       "      <td>(212) 248-3838</td>\n",
       "      <td>1340.117592</td>\n",
       "    </tr>\n",
       "    <tr>\n",
       "      <th>39</th>\n",
       "      <td>pfccCt5bZaGv8U1J8oFNjQ</td>\n",
       "      <td>siena-pizza-and-cannoli-new-york-2</td>\n",
       "      <td>Siena Pizza &amp; Cannoli</td>\n",
       "      <td>https://s3-media4.fl.yelpcdn.com/bphoto/TRQ_bK...</td>\n",
       "      <td>False</td>\n",
       "      <td>https://www.yelp.com/biz/siena-pizza-and-canno...</td>\n",
       "      <td>134</td>\n",
       "      <td>[{'alias': 'pizza', 'title': 'Pizza'}, {'alias...</td>\n",
       "      <td>4.5</td>\n",
       "      <td>{'latitude': 40.708152, 'longitude': -74.013864}</td>\n",
       "      <td>[pickup, delivery]</td>\n",
       "      <td>$</td>\n",
       "      <td>{'address1': '14 Rector St', 'address2': None,...</td>\n",
       "      <td>+12124060918</td>\n",
       "      <td>(212) 406-0918</td>\n",
       "      <td>1661.278325</td>\n",
       "    </tr>\n",
       "  </tbody>\n",
       "</table>\n",
       "</div>"
      ],
      "text/plain": [
       "                        id                               alias  \\\n",
       "37  l6yVO8l8E5XI9ArgOy5rgw          ltd-pizza-and-bar-new-york   \n",
       "38  yH6t1JWcwkdWG4CS5KPvow         adriennes-pizzabar-new-york   \n",
       "39  pfccCt5bZaGv8U1J8oFNjQ  siena-pizza-and-cannoli-new-york-2   \n",
       "\n",
       "                     name                                          image_url  \\\n",
       "37      LTD Pizza and Bar  https://s3-media2.fl.yelpcdn.com/bphoto/Lt0xvq...   \n",
       "38    Adrienne's Pizzabar  https://s3-media3.fl.yelpcdn.com/bphoto/YePG9J...   \n",
       "39  Siena Pizza & Cannoli  https://s3-media4.fl.yelpcdn.com/bphoto/TRQ_bK...   \n",
       "\n",
       "    is_closed                                                url  \\\n",
       "37      False  https://www.yelp.com/biz/ltd-pizza-and-bar-new...   \n",
       "38      False  https://www.yelp.com/biz/adriennes-pizzabar-ne...   \n",
       "39      False  https://www.yelp.com/biz/siena-pizza-and-canno...   \n",
       "\n",
       "    review_count                                         categories  rating  \\\n",
       "37            32  [{'alias': 'pizza', 'title': 'Pizza'}, {'alias...     4.5   \n",
       "38          1850  [{'alias': 'pizza', 'title': 'Pizza'}, {'alias...     4.0   \n",
       "39           134  [{'alias': 'pizza', 'title': 'Pizza'}, {'alias...     4.5   \n",
       "\n",
       "                                          coordinates  \\\n",
       "37    {'latitude': 40.724242, 'longitude': -74.00802}   \n",
       "38  {'latitude': 40.70424819999999, 'longitude': -...   \n",
       "39   {'latitude': 40.708152, 'longitude': -74.013864}   \n",
       "\n",
       "                                  transactions price  \\\n",
       "37  [restaurant_reservation, pickup, delivery]   NaN   \n",
       "38                          [pickup, delivery]    $$   \n",
       "39                          [pickup, delivery]     $   \n",
       "\n",
       "                                             location         phone  \\\n",
       "37  {'address1': '225 Hudson St', 'address2': None...  +12124191618   \n",
       "38  {'address1': '54 Stone St', 'address2': None, ...  +12122483838   \n",
       "39  {'address1': '14 Rector St', 'address2': None,...  +12124060918   \n",
       "\n",
       "     display_phone     distance  \n",
       "37  (212) 419-1618  2391.701096  \n",
       "38  (212) 248-3838  1340.117592  \n",
       "39  (212) 406-0918  1661.278325  "
      ]
     },
     "metadata": {},
     "output_type": "display_data"
    }
   ],
   "source": [
    "## concatenate the previous results and new results. \n",
    "businesses = pd.concat([biz, biz20],\n",
    "                      ignore_index=True)\n",
    "display(businesses.head(3), businesses.tail(3))"
   ]
  },
  {
   "cell_type": "code",
   "execution_count": null,
   "id": "51cf3352",
   "metadata": {},
   "outputs": [],
   "source": [
    "#done"
   ]
  }
 ],
 "metadata": {
  "kernelspec": {
   "display_name": "Python (dojo-env)",
   "language": "python",
   "name": "dojo-env"
  },
  "language_info": {
   "codemirror_mode": {
    "name": "ipython",
    "version": 3
   },
   "file_extension": ".py",
   "mimetype": "text/x-python",
   "name": "python",
   "nbconvert_exporter": "python",
   "pygments_lexer": "ipython3",
   "version": "3.10.10"
  }
 },
 "nbformat": 4,
 "nbformat_minor": 5
}
